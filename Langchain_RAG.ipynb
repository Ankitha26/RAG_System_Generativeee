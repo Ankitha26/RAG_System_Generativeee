{
 "cells": [
  {
   "cell_type": "markdown",
   "id": "ed0ee06a",
   "metadata": {},
   "source": [
    "# Build a RAG System on “Leave No Context Behind” Paper"
   ]
  },
  {
   "cell_type": "code",
   "execution_count": 1,
   "id": "2bd8a014",
   "metadata": {
    "ExecuteTime": {
     "end_time": "2024-04-25T11:39:36.436634Z",
     "start_time": "2024-04-25T11:39:31.696884Z"
    }
   },
   "outputs": [
    {
     "name": "stdout",
     "output_type": "stream",
     "text": [
      "Collecting pypdfNote: you may need to restart the kernel to use updated packages.\n",
      "\n",
      "  Downloading pypdf-4.2.0-py3-none-any.whl (290 kB)\n",
      "     -------------------------------------- 290.4/290.4 kB 1.4 MB/s eta 0:00:00\n",
      "Requirement already satisfied: typing_extensions>=4.0 in c:\\programdata\\anaconda3_\\lib\\site-packages (from pypdf) (4.11.0)\n",
      "Installing collected packages: pypdf\n",
      "Successfully installed pypdf-4.2.0\n"
     ]
    }
   ],
   "source": [
    "pip install pypdf"
   ]
  },
  {
   "cell_type": "code",
   "execution_count": 2,
   "id": "9fd28419",
   "metadata": {
    "ExecuteTime": {
     "end_time": "2024-04-25T11:40:09.965326Z",
     "start_time": "2024-04-25T11:39:53.368917Z"
    }
   },
   "outputs": [
    {
     "name": "stdout",
     "output_type": "stream",
     "text": [
      "Collecting langchain_google_genai\n",
      "  Downloading langchain_google_genai-1.0.2-py3-none-any.whl (28 kB)\n",
      "Collecting langchain-core<0.2,>=0.1.27\n",
      "  Downloading langchain_core-0.1.45-py3-none-any.whl (291 kB)\n",
      "     -------------------------------------- 291.3/291.3 kB 1.4 MB/s eta 0:00:00\n",
      "Collecting google-generativeai<0.6.0,>=0.5.0\n",
      "  Downloading google_generativeai-0.5.2-py3-none-any.whl (146 kB)\n",
      "     -------------------------------------- 146.8/146.8 kB 1.5 MB/s eta 0:00:00\n",
      "Requirement already satisfied: protobuf in c:\\programdata\\anaconda3_\\lib\\site-packages (from google-generativeai<0.6.0,>=0.5.0->langchain_google_genai) (4.25.3)\n",
      "Requirement already satisfied: typing-extensions in c:\\programdata\\anaconda3_\\lib\\site-packages (from google-generativeai<0.6.0,>=0.5.0->langchain_google_genai) (4.11.0)\n",
      "Collecting google-auth>=2.15.0\n",
      "  Downloading google_auth-2.29.0-py2.py3-none-any.whl (189 kB)\n",
      "     -------------------------------------- 189.2/189.2 kB 1.6 MB/s eta 0:00:00\n",
      "Collecting google-api-python-client\n",
      "  Downloading google_api_python_client-2.127.0-py2.py3-none-any.whl (12.7 MB)\n",
      "     ---------------------------------------- 12.7/12.7 MB 4.4 MB/s eta 0:00:00\n",
      "Collecting google-api-core\n",
      "  Downloading google_api_core-2.18.0-py3-none-any.whl (138 kB)\n",
      "     -------------------------------------- 138.3/138.3 kB 2.7 MB/s eta 0:00:00\n",
      "Collecting google-ai-generativelanguage==0.6.2\n",
      "  Downloading google_ai_generativelanguage-0.6.2-py3-none-any.whl (664 kB)\n",
      "     -------------------------------------- 664.5/664.5 kB 5.2 MB/s eta 0:00:00\n",
      "Requirement already satisfied: tqdm in c:\\programdata\\anaconda3_\\lib\\site-packages (from google-generativeai<0.6.0,>=0.5.0->langchain_google_genai) (4.64.1)\n",
      "Requirement already satisfied: pydantic in c:\\programdata\\anaconda3_\\lib\\site-packages (from google-generativeai<0.6.0,>=0.5.0->langchain_google_genai) (2.7.0)\n",
      "Collecting proto-plus<2.0.0dev,>=1.22.3\n",
      "  Downloading proto_plus-1.23.0-py3-none-any.whl (48 kB)\n",
      "     ---------------------------------------- 48.8/48.8 kB 2.4 MB/s eta 0:00:00\n",
      "Collecting packaging<24.0,>=23.2\n",
      "  Downloading packaging-23.2-py3-none-any.whl (53 kB)\n",
      "     ---------------------------------------- 53.0/53.0 kB ? eta 0:00:00\n",
      "Collecting langsmith<0.2.0,>=0.1.0\n",
      "  Downloading langsmith-0.1.50-py3-none-any.whl (115 kB)\n",
      "     -------------------------------------- 115.5/115.5 kB 3.4 MB/s eta 0:00:00\n",
      "Requirement already satisfied: PyYAML>=5.3 in c:\\programdata\\anaconda3_\\lib\\site-packages (from langchain-core<0.2,>=0.1.27->langchain_google_genai) (6.0)\n",
      "Collecting tenacity<9.0.0,>=8.1.0\n",
      "  Using cached tenacity-8.2.3-py3-none-any.whl (24 kB)\n",
      "Collecting jsonpatch<2.0,>=1.33\n",
      "  Downloading jsonpatch-1.33-py2.py3-none-any.whl (12 kB)\n",
      "Requirement already satisfied: pyasn1-modules>=0.2.1 in c:\\programdata\\anaconda3_\\lib\\site-packages (from google-auth>=2.15.0->google-generativeai<0.6.0,>=0.5.0->langchain_google_genai) (0.2.8)\n",
      "Collecting rsa<5,>=3.1.4\n",
      "  Downloading rsa-4.9-py3-none-any.whl (34 kB)\n",
      "Collecting cachetools<6.0,>=2.0.0\n",
      "  Downloading cachetools-5.3.3-py3-none-any.whl (9.3 kB)\n",
      "Collecting jsonpointer>=1.9\n",
      "  Downloading jsonpointer-2.4-py2.py3-none-any.whl (7.8 kB)\n",
      "Collecting orjson<4.0.0,>=3.9.14\n",
      "  Downloading orjson-3.10.1-cp39-none-win_amd64.whl (138 kB)\n",
      "     -------------------------------------- 138.9/138.9 kB 8.0 MB/s eta 0:00:00\n",
      "Requirement already satisfied: requests<3,>=2 in c:\\programdata\\anaconda3_\\lib\\site-packages (from langsmith<0.2.0,>=0.1.0->langchain-core<0.2,>=0.1.27->langchain_google_genai) (2.28.1)\n",
      "Requirement already satisfied: pydantic-core==2.18.1 in c:\\programdata\\anaconda3_\\lib\\site-packages (from pydantic->google-generativeai<0.6.0,>=0.5.0->langchain_google_genai) (2.18.1)\n",
      "Requirement already satisfied: annotated-types>=0.4.0 in c:\\programdata\\anaconda3_\\lib\\site-packages (from pydantic->google-generativeai<0.6.0,>=0.5.0->langchain_google_genai) (0.6.0)\n",
      "Collecting googleapis-common-protos<2.0.dev0,>=1.56.2\n",
      "  Downloading googleapis_common_protos-1.63.0-py2.py3-none-any.whl (229 kB)\n",
      "     -------------------------------------- 229.1/229.1 kB 3.5 MB/s eta 0:00:00\n",
      "Collecting google-auth-httplib2<1.0.0,>=0.2.0\n",
      "  Downloading google_auth_httplib2-0.2.0-py2.py3-none-any.whl (9.3 kB)\n",
      "Collecting uritemplate<5,>=3.0.1\n",
      "  Downloading uritemplate-4.1.1-py2.py3-none-any.whl (10 kB)\n",
      "Collecting httplib2<1.dev0,>=0.19.0\n",
      "  Downloading httplib2-0.22.0-py3-none-any.whl (96 kB)\n",
      "     ---------------------------------------- 96.9/96.9 kB 5.4 MB/s eta 0:00:00\n",
      "Requirement already satisfied: colorama in c:\\programdata\\anaconda3_\\lib\\site-packages (from tqdm->google-generativeai<0.6.0,>=0.5.0->langchain_google_genai) (0.4.5)\n",
      "Collecting grpcio<2.0dev,>=1.33.2\n",
      "  Downloading grpcio-1.62.2-cp39-cp39-win_amd64.whl (3.8 MB)\n",
      "     ---------------------------------------- 3.8/3.8 MB 5.6 MB/s eta 0:00:00\n",
      "Collecting grpcio-status<2.0.dev0,>=1.33.2\n",
      "  Downloading grpcio_status-1.62.2-py3-none-any.whl (14 kB)\n",
      "Requirement already satisfied: pyparsing!=3.0.0,!=3.0.1,!=3.0.2,!=3.0.3,<4,>=2.4.2 in c:\\programdata\\anaconda3_\\lib\\site-packages (from httplib2<1.dev0,>=0.19.0->google-api-python-client->google-generativeai<0.6.0,>=0.5.0->langchain_google_genai) (3.0.9)\n",
      "Requirement already satisfied: pyasn1<0.5.0,>=0.4.6 in c:\\programdata\\anaconda3_\\lib\\site-packages (from pyasn1-modules>=0.2.1->google-auth>=2.15.0->google-generativeai<0.6.0,>=0.5.0->langchain_google_genai) (0.4.8)\n",
      "Requirement already satisfied: charset-normalizer<3,>=2 in c:\\programdata\\anaconda3_\\lib\\site-packages (from requests<3,>=2->langsmith<0.2.0,>=0.1.0->langchain-core<0.2,>=0.1.27->langchain_google_genai) (2.0.4)\n",
      "Requirement already satisfied: idna<4,>=2.5 in c:\\programdata\\anaconda3_\\lib\\site-packages (from requests<3,>=2->langsmith<0.2.0,>=0.1.0->langchain-core<0.2,>=0.1.27->langchain_google_genai) (3.3)\n",
      "Requirement already satisfied: certifi>=2017.4.17 in c:\\programdata\\anaconda3_\\lib\\site-packages (from requests<3,>=2->langsmith<0.2.0,>=0.1.0->langchain-core<0.2,>=0.1.27->langchain_google_genai) (2022.9.14)\n",
      "Requirement already satisfied: urllib3<1.27,>=1.21.1 in c:\\programdata\\anaconda3_\\lib\\site-packages (from requests<3,>=2->langsmith<0.2.0,>=0.1.0->langchain-core<0.2,>=0.1.27->langchain_google_genai) (1.26.11)\n",
      "Installing collected packages: uritemplate, tenacity, rsa, proto-plus, packaging, orjson, jsonpointer, httplib2, grpcio, googleapis-common-protos, cachetools, jsonpatch, grpcio-status, google-auth, langsmith, google-auth-httplib2, google-api-core, langchain-core, google-api-python-client, google-ai-generativelanguage, google-generativeai, langchain_google_genai\n",
      "  Attempting uninstall: tenacity\n",
      "    Found existing installation: tenacity 8.0.1\n",
      "    Uninstalling tenacity-8.0.1:\n",
      "      Successfully uninstalled tenacity-8.0.1\n",
      "  Attempting uninstall: packaging\n",
      "    Found existing installation: packaging 21.3\n",
      "    Uninstalling packaging-21.3:\n",
      "      Successfully uninstalled packaging-21.3\n",
      "Successfully installed cachetools-5.3.3 google-ai-generativelanguage-0.6.2 google-api-core-2.18.0 google-api-python-client-2.127.0 google-auth-2.29.0 google-auth-httplib2-0.2.0 google-generativeai-0.5.2 googleapis-common-protos-1.63.0 grpcio-1.62.2 grpcio-status-1.62.2 httplib2-0.22.0 jsonpatch-1.33 jsonpointer-2.4 langchain-core-0.1.45 langchain_google_genai-1.0.2 langsmith-0.1.50 orjson-3.10.1 packaging-23.2 proto-plus-1.23.0 rsa-4.9 tenacity-8.2.3 uritemplate-4.1.1\n",
      "Note: you may need to restart the kernel to use updated packages.\n"
     ]
    }
   ],
   "source": [
    "pip install langchain_google_genai"
   ]
  },
  {
   "cell_type": "code",
   "execution_count": 3,
   "id": "08487e6f",
   "metadata": {
    "ExecuteTime": {
     "end_time": "2024-04-25T11:43:29.261426Z",
     "start_time": "2024-04-25T11:43:29.229179Z"
    }
   },
   "outputs": [],
   "source": [
    "from langchain_google_genai import ChatGoogleGenerativeAI\n",
    "# setup API Key\n",
    "f=open(r\"C:\\Users\\ANKITHA\\OneDrive\\Desktop\\RAG.txt\")\n",
    "GOOGLE_API_KEY = f.read()\n",
    "\n",
    "chat_model = ChatGoogleGenerativeAI(google_api_key=GOOGLE_API_KEY, model=\"gemini-1.5-pro-latest\")"
   ]
  },
  {
   "cell_type": "markdown",
   "id": "efa6be1c",
   "metadata": {},
   "source": [
    "# Loading the Document"
   ]
  },
  {
   "cell_type": "code",
   "execution_count": 4,
   "id": "958875e6",
   "metadata": {
    "ExecuteTime": {
     "end_time": "2024-04-25T11:44:04.048547Z",
     "start_time": "2024-04-25T11:43:49.885664Z"
    }
   },
   "outputs": [
    {
     "name": "stdout",
     "output_type": "stream",
     "text": [
      "Collecting langchain\n",
      "  Downloading langchain-0.1.16-py3-none-any.whl (817 kB)\n",
      "     -------------------------------------- 817.7/817.7 kB 3.2 MB/s eta 0:00:00\n",
      "Requirement already satisfied: langchain-core<0.2.0,>=0.1.42 in c:\\programdata\\anaconda3_\\lib\\site-packages (from langchain) (0.1.45)\n",
      "Requirement already satisfied: langsmith<0.2.0,>=0.1.17 in c:\\programdata\\anaconda3_\\lib\\site-packages (from langchain) (0.1.50)\n",
      "Requirement already satisfied: jsonpatch<2.0,>=1.33 in c:\\programdata\\anaconda3_\\lib\\site-packages (from langchain) (1.33)\n",
      "Requirement already satisfied: SQLAlchemy<3,>=1.4 in c:\\programdata\\anaconda3_\\lib\\site-packages (from langchain) (1.4.39)\n",
      "Collecting async-timeout<5.0.0,>=4.0.0\n",
      "  Downloading async_timeout-4.0.3-py3-none-any.whl (5.7 kB)\n",
      "Requirement already satisfied: pydantic<3,>=1 in c:\\programdata\\anaconda3_\\lib\\site-packages (from langchain) (2.7.0)\n",
      "Requirement already satisfied: numpy<2,>=1 in c:\\programdata\\anaconda3_\\lib\\site-packages (from langchain) (1.26.4)\n",
      "Collecting aiohttp<4.0.0,>=3.8.3\n",
      "  Downloading aiohttp-3.9.5-cp39-cp39-win_amd64.whl (371 kB)\n",
      "     -------------------------------------- 371.6/371.6 kB 4.6 MB/s eta 0:00:00\n",
      "Requirement already satisfied: PyYAML>=5.3 in c:\\programdata\\anaconda3_\\lib\\site-packages (from langchain) (6.0)\n",
      "Requirement already satisfied: requests<3,>=2 in c:\\programdata\\anaconda3_\\lib\\site-packages (from langchain) (2.28.1)\n",
      "Requirement already satisfied: tenacity<9.0.0,>=8.1.0 in c:\\programdata\\anaconda3_\\lib\\site-packages (from langchain) (8.2.3)\n",
      "Collecting dataclasses-json<0.7,>=0.5.7\n",
      "  Downloading dataclasses_json-0.6.4-py3-none-any.whl (28 kB)\n",
      "Collecting langchain-text-splitters<0.1,>=0.0.1\n",
      "  Downloading langchain_text_splitters-0.0.1-py3-none-any.whl (21 kB)\n",
      "Collecting langchain-community<0.1,>=0.0.32\n",
      "  Downloading langchain_community-0.0.34-py3-none-any.whl (1.9 MB)\n",
      "     ---------------------------------------- 1.9/1.9 MB 5.3 MB/s eta 0:00:00\n",
      "Collecting multidict<7.0,>=4.5\n",
      "  Downloading multidict-6.0.5-cp39-cp39-win_amd64.whl (28 kB)\n",
      "Requirement already satisfied: attrs>=17.3.0 in c:\\programdata\\anaconda3_\\lib\\site-packages (from aiohttp<4.0.0,>=3.8.3->langchain) (21.4.0)\n",
      "Collecting frozenlist>=1.1.1\n",
      "  Downloading frozenlist-1.4.1-cp39-cp39-win_amd64.whl (50 kB)\n",
      "     ---------------------------------------- 50.7/50.7 kB 2.7 MB/s eta 0:00:00\n",
      "Collecting yarl<2.0,>=1.0\n",
      "  Downloading yarl-1.9.4-cp39-cp39-win_amd64.whl (76 kB)\n",
      "     ---------------------------------------- 76.9/76.9 kB 4.4 MB/s eta 0:00:00\n",
      "Collecting aiosignal>=1.1.2\n",
      "  Downloading aiosignal-1.3.1-py3-none-any.whl (7.6 kB)\n",
      "Collecting typing-inspect<1,>=0.4.0\n",
      "  Downloading typing_inspect-0.9.0-py3-none-any.whl (8.8 kB)\n",
      "Collecting marshmallow<4.0.0,>=3.18.0\n",
      "  Downloading marshmallow-3.21.1-py3-none-any.whl (49 kB)\n",
      "     ---------------------------------------- 49.4/49.4 kB ? eta 0:00:00\n",
      "Requirement already satisfied: jsonpointer>=1.9 in c:\\programdata\\anaconda3_\\lib\\site-packages (from jsonpatch<2.0,>=1.33->langchain) (2.4)\n",
      "Requirement already satisfied: packaging<24.0,>=23.2 in c:\\programdata\\anaconda3_\\lib\\site-packages (from langchain-core<0.2.0,>=0.1.42->langchain) (23.2)\n",
      "Requirement already satisfied: orjson<4.0.0,>=3.9.14 in c:\\programdata\\anaconda3_\\lib\\site-packages (from langsmith<0.2.0,>=0.1.17->langchain) (3.10.1)\n",
      "Requirement already satisfied: typing-extensions>=4.6.1 in c:\\programdata\\anaconda3_\\lib\\site-packages (from pydantic<3,>=1->langchain) (4.11.0)\n",
      "Requirement already satisfied: pydantic-core==2.18.1 in c:\\programdata\\anaconda3_\\lib\\site-packages (from pydantic<3,>=1->langchain) (2.18.1)\n",
      "Requirement already satisfied: annotated-types>=0.4.0 in c:\\programdata\\anaconda3_\\lib\\site-packages (from pydantic<3,>=1->langchain) (0.6.0)\n",
      "Requirement already satisfied: charset-normalizer<3,>=2 in c:\\programdata\\anaconda3_\\lib\\site-packages (from requests<3,>=2->langchain) (2.0.4)\n",
      "Requirement already satisfied: idna<4,>=2.5 in c:\\programdata\\anaconda3_\\lib\\site-packages (from requests<3,>=2->langchain) (3.3)\n",
      "Requirement already satisfied: urllib3<1.27,>=1.21.1 in c:\\programdata\\anaconda3_\\lib\\site-packages (from requests<3,>=2->langchain) (1.26.11)\n",
      "Requirement already satisfied: certifi>=2017.4.17 in c:\\programdata\\anaconda3_\\lib\\site-packages (from requests<3,>=2->langchain) (2022.9.14)\n",
      "Requirement already satisfied: greenlet!=0.4.17 in c:\\programdata\\anaconda3_\\lib\\site-packages (from SQLAlchemy<3,>=1.4->langchain) (1.1.1)\n",
      "Requirement already satisfied: mypy-extensions>=0.3.0 in c:\\programdata\\anaconda3_\\lib\\site-packages (from typing-inspect<1,>=0.4.0->dataclasses-json<0.7,>=0.5.7->langchain) (0.4.3)\n",
      "Installing collected packages: typing-inspect, multidict, marshmallow, frozenlist, async-timeout, yarl, dataclasses-json, aiosignal, aiohttp, langchain-text-splitters, langchain-community, langchain\n",
      "Successfully installed aiohttp-3.9.5 aiosignal-1.3.1 async-timeout-4.0.3 dataclasses-json-0.6.4 frozenlist-1.4.1 langchain-0.1.16 langchain-community-0.0.34 langchain-text-splitters-0.0.1 marshmallow-3.21.1 multidict-6.0.5 typing-inspect-0.9.0 yarl-1.9.4\n",
      "Note: you may need to restart the kernel to use updated packages.\n"
     ]
    }
   ],
   "source": [
    "pip install --upgrade langchain"
   ]
  },
  {
   "cell_type": "code",
   "execution_count": 26,
   "id": "be5c13fb",
   "metadata": {
    "ExecuteTime": {
     "end_time": "2024-04-25T11:57:13.388990Z",
     "start_time": "2024-04-25T11:57:13.075000Z"
    }
   },
   "outputs": [
    {
     "data": {
      "text/plain": [
       "[Document(page_content='Preprint. Under review.\\nLeave No Context Behind:\\nEfficient Infinite Context Transformers with Infini-attention\\nTsendsuren Munkhdalai, Manaal Faruqui and Siddharth Gopal\\nGoogle\\ntsendsuren@google.com\\nAbstract\\nThis work introduces an efficient method to scale Transformer-based Large\\nLanguage Models (LLMs) to infinitely long inputs with bounded memory\\nand computation. A key component in our proposed approach is a new at-\\ntention technique dubbed Infini-attention. The Infini-attention incorporates\\na compressive memory into the vanilla attention mechanism and builds\\nin both masked local attention and long-term linear attention mechanisms\\nin a single Transformer block. We demonstrate the effectiveness of our\\napproach on long-context language modeling benchmarks, 1M sequence\\nlength passkey context block retrieval and 500K length book summarization\\ntasks with 1B and 8B LLMs. Our approach introduces minimal bounded\\nmemory parameters and enables fast streaming inference for LLMs.\\n1 Introduction\\nMemory serves as a cornerstone of intelligence, as it enables efficient computations tailored\\nto specific contexts. However, Transformers (Vaswani et al., 2017) and Transformer-based\\nLLMs (Brown et al., 2020; Touvron et al., 2023; Anil et al., 2023; Groeneveld et al., 2024) have\\na constrained context-dependent memory, due to the nature of the attention mechanism.\\nUpdate \\nVVConcat Concat \\nQ V\\nQ V\\nQs{KV}sCompressive memory & \\nLinear attention Causal scaled dot-product \\nattention & PE Linear \\nprojection \\n{KV}s-1Retrieve \\nFigure 1: Infini-attention has an addi-\\ntional compressive memory with linear\\nattention for processing infinitely long\\ncontexts. {KV}s−1and{KV}sare atten-\\ntion key and values for current and previ-\\nous input segments, respectively and Qs\\nthe attention queries. PE denotes position\\nembeddings.The attention mechanism in Transformers ex-\\nhibits quadratic complexity in both memory\\nfootprint and computation time. For example,\\nthe attention Key-Value (KV) states have 3TB\\nmemory footprint for a 500B model with batch\\nsize 512 and context length 2048 (Pope et al.,\\n2023). Indeed, scaling LLMs to longer sequences\\n(i.e. 1M tokens) is challenging with the standard\\nTransformer architectures and serving longer\\nand longer context models becomes costly finan-\\ncially.\\nCompressive memory systems promise to be\\nmore scalable and efficient than the attention\\nmechanism for extremely long sequences (Kan-\\nerva, 1988; Munkhdalai et al., 2019). Instead\\nof using an array that grows with the input se-\\nquence length, a compressive memory primarily\\nmaintains a fixed number of parameters to store\\nand recall information with a bounded storage\\nand computation costs. In the compressive mem-\\nory, new information is added to the memory\\nby changing its parameters with an objective\\nthat this information can be recovered back later\\non. However, the LLMs in their current state\\nhave yet to see an effective, practical compres-\\nsive memory technique that balances simplicity along with quality.\\n1arXiv:2404.07143v1  [cs.CL]  10 Apr 2024', metadata={'source': 'C:\\\\Users\\\\ANKITHA\\\\Downloads\\\\2404.07143.pdf', 'page': 0}),\n",
       " Document(page_content='Preprint. Under review.\\nIn this work, we introduce a novel approach that enables Transformer LLMs to effectively\\nprocess infinitely long inputs with bounded memory footprint and computation. A key\\ncomponent in our proposed approach is a new attention technique dubbed Infini-attention\\n(Figure 1). The Infini-attention incorporates a compressive memory into the vanilla attention\\nmechanism (Bahdanau et al., 2014; Vaswani et al., 2017) and builds in both masked local\\nattention and long-term linear attention mechanisms in a single Transformer block.\\nSuch a subtle but critical modification to the Transformer attention layer enables a natural\\nextension of existing LLMs to infinitely long contexts via continual pre-training and fine-\\ntuning.\\nOur Infini-attention reuses all the key, value and query states of the standard attention\\ncomputation for long-term memory consolidation and retrieval. We store old KV states of\\nthe attention in the compressive memory, instead of discarding them like in the standard\\nattention mechanism. We then retrieve the values from the memory by using the attention\\nquery states when processing subsequent sequences. To compute the final contextual\\noutput, the Infini-attention aggregates the long-term memory-retrieved values and the local\\nattention contexts.\\nIn our experiments, we show that our approach outperforms baseline models on long-\\ncontext language modeling benchmarks while having 114x comprehension ratio in terms of\\nmemory size. The model achieves even better perplexity when trained with 100K sequence\\nlength. A 1B LLM naturally scales to 1M sequence length and solves the passkey retrieval\\ntask when injected with Infini-attention. Finally, we show that a 8B model with Infini-\\nattention reaches a new SOTA result on a 500K length book summarization task after\\ncontinual pre-training and task fine-tuning.\\nIn summary, our work makes the following contributions:\\n1.We introduce a practical and yet powerful attention mechanism – Infini-attention\\nwith long-term compressive memory and local causal attention for efficiently mod-\\neling both long and short-range contextual dependencies.\\n2.Infini-attention introduces minimal change to the standard scaled dot-product atten-\\ntion and supports plug-and-play continual pre-training and long-context adaptation\\nby design.\\n3.Our approach enables Transformer LLMs to scale to infinitely long context with a\\nbounded memory and compute resource by processing extremely long inputs in a\\nstreaming fashion.\\n2 Method\\nFigure 2 compares our model, Infini-Transformer, and Transformer-XL (Dai et al., 2019).\\nSimilar to Transformer-XL, Infini-Transformer operates on a sequence of segments. We\\ncompute the standard causal dot-product attention context within each segment. So the\\ndot-product attention computation is local in a sense that it covers a total Nnumber of\\ntokens of the current segment with index S(Nis the segment length).\\nThe local attention (Dai et al., 2019), however, discards the attention states of the previous\\nsegment when processing the next one. In Infini-Transformers, instead of leaving out the\\nold KV attention states, we propose to reuse them to maintain the entire context history\\nwith a compressive memory. So each attention layer of Infini-Transformers has both global\\ncompressive and local fine-grained states. We call such an efficient attention mechanism\\nInfini-attention, which is illustrated in Figure 1 and described formally in the following\\nsections.\\n2.1 Infini-attention\\nAs shown Figure 1, our Infini-attention computes both local and global context states and\\ncombine them for its output. Similar to multi-head attention (MHA), it maintains Hnumber\\n2', metadata={'source': 'C:\\\\Users\\\\ANKITHA\\\\Downloads\\\\2404.07143.pdf', 'page': 1}),\n",
       " Document(page_content='Preprint. Under review.\\nSegment 1 Segment 2 Segment 3 \\nSegment 1 Segment 2 Segment 3 Transformer block: Infini-T ransformer \\nT ransformer-XL Compressive memory: \\nMemory update: \\nMemory retrieval: \\nEffective context: \\nInput segment: Segment 1 \\nFigure 2: Infini-Transformer (top) has an entire context history whereas Transformer-XL\\n(bottom) discards old contexts since it caches the KV states for the last segment only.\\nof parallel compressive memory per attention layer ( His the number of attention heads) in\\naddition to the dot-product attention.\\n2.1.1 Scaled Dot-product Attention\\nThe multi-head scaled dot-product attention (Vaswani et al., 2017), specially its self-attention\\nvariant (Munkhdalai et al., 2016; Cheng et al., 2016), has been the main building block in\\nLLMs. The MHA’s strong capability to model context-dependent dynamic computation and\\nits conveniences of temporal masking have been leveraged extensively in the autoregressive\\ngenerative models.\\nA single head in the vanilla MHA computes its attention context Adot∈I RN×dvaluefrom\\nsequence of input segments X∈I RN×dmodel as follows. First, it computes attention query,\\nkey, and value states:\\nK=XW K,V=XW Vand Q=XW Q. (1)\\nHere, WK∈I Rdmodel×dkey,WV∈I Rdmodel×dvalueand WQ∈I Rdmodel×dkeyare trainable projection\\nmatrices. Then, the attention context is calculated as a weighted average of all other values\\nas\\nAdot=softmax\\x12QKT\\n√dmodel\\x13\\nV. (2)\\nFor MHA, we compute Hnumber of attention context vectors for each sequence element\\nin parallel, concatenate them along the second dimension and then finally project the\\nconcatenated vector to the model space to obtain attention the output.\\n2.1.2 Compressive Memory\\nIn Infini-attention, instead of computing new memory entries for compressive memory, we\\nreuse the query, key and value states ( Q,Kand V) from the dot-product attention compu-\\ntation. The state sharing and reusing between the dot-product attention and compressive\\nmemory not only enables efficient plug-in-play long-context adaptation but also speeds up\\ntraining and inference. Similar to the prior work (Munkhdalai et al., 2019), our goal is to\\nstore bindings of key and value states in the compressive memory and retrieve by using the\\nquery vectors.\\n3', metadata={'source': 'C:\\\\Users\\\\ANKITHA\\\\Downloads\\\\2404.07143.pdf', 'page': 2}),\n",
       " Document(page_content='Preprint. Under review.\\nWhile there are different forms of compressive memory proposed in the literature (Hop-\\nfield, 1982; Kanerva, 1988; Schlag et al., 2019; Munkhdalai et al., 2019), for simplicity and\\ncomputational efficiency, in this work we parameterize the memory with an associative\\nmatrix (Schlag et al., 2020). This approach further allows us to cast the memory update\\nand retrieval process as linear attention mechanism (Shen et al., 2018) and to leverage\\nstable training techniques from the related methods. Specially, we adopt the update rule\\nand retrieval mechanism by Katharopoulos et al. (2020) mainly due to its simplicity and\\ncompetitive performance.\\nMemory retrieval. In Infini-attention, we retrieve new content Amem∈I RN×dvaluefrom the\\nmemory Ms−1∈I Rdkey×dvalueby using the query Q∈I RN×dkeyas:\\nAmem=σ(Q)Ms−1\\nσ(Q)zs−1. (3)\\nHere, σand zs−1∈I Rdkeyare a nonlinear activation function and a normalization term,\\nrespectively. As the choice of the non-linearity and the norm method is crucial for training\\nstability, following Katharopoulos et al. (2020) we record a sum over all keys as the normal-\\nization term zs−1and use element-wise ELU + 1 as the activation function (Clevert et al.,\\n2015).\\nMemory update. Once the retrieval is done, we update the memory and the normalization\\nterm with the new KV entries and obtain the next states as\\nMs←Ms−1+σ(K)TVand zs←zs−1+N\\n∑\\nt=1σ(Kt). (4)\\nThe new memory states Msand zsare then passed to the next segment S+1, building in\\na recurrence in each attention layer. The right side term σ(K)TVin Eq. (4)is known as an\\nassociative binding operator (Smolensky, 1990; Hebb, 2005; Schlag et al., 2020).\\nInspired by the success of delta rule (Munkhdalai et al., 2019; Schlag et al., 2020; 2021),\\nwe have also incorporated it into our Infini-attention. The delta rule attempts a slightly\\nimproved memory update by first retrieving existing value entries and subtracting them\\nfrom the new values before applying the associative bindings as new update.\\nMs←Ms−1+σ(K)T(V−σ(K)Ms−1\\nσ(K)zs−1). (5)\\nThis update rule ( Linear +Delta ) leaves the associative matrix unmodified if the KV binding\\nalready exists in the memory while still tracking the same normalization term as the former\\none ( Linear ) for numerical stability.\\nLong-term context injection. We aggregate the local attention state Adotand memory\\nretrieved content Amemvia a learned gating scalar β:\\nA=sigmoid (β)⊙Amem+ (1−sigmoid (β))⊙Adot. (6)\\nThis adds only a single scalar value as training parameter per head while allowing a\\nlearnable trade-off between the long-term and local information flows in the model (Wu\\net al., 2022).\\nSimilar to the standard MHA, for the multi-head Infini-attention we compute Hnumber of\\ncontext states in parallel, and concatenate and project them for the final attention output\\nO∈I RN×dmodel:\\nO= [A1; . . .AH]WO (7)\\nwhere WO∈I RH×dvalue×dmodelis trainable weights.\\n2.2 Memory and Effective Context Window\\nOur Infini-Transformer enables an unbounded context window with a bounded memory\\nfootprint. To illustrate this, Table 1 lists the previous segment-level memory models with\\n4', metadata={'source': 'C:\\\\Users\\\\ANKITHA\\\\Downloads\\\\2404.07143.pdf', 'page': 3}),\n",
       " Document(page_content='Preprint. Under review.\\nModel Memory (cache) footprint Context length Memory update Memory retrieval\\nTransformer-XL (dkey+dvalue)×H×N×l N ×l Discarded Dot-product attention\\nCompressive Transformer dmodel×(c+N)×l (c×r+N)×l Discarded Dot-product attention\\nMemorizing Transformers (dkey+dvalue)×H×N×S N ×S None kNN + dot-product attention\\nRMT dmodel×p×l×2 N×S Discarded Soft-prompt input\\nAutoCompressors dmodel×p×(m+1)×l N ×S Discarded Soft-prompt input\\nInfini-Transformers dkey×(dvalue+1)×H×l N ×S Incremental Linear attention\\nTable 1: Transformer models with segment-level memory are compared. For each model, the\\nmemory size and effective context length are defined in terms of their model parameters ( N:\\ninput segment length, S: the number of segments, l: the number of layers, H: the number\\nof attention heads, c: Compressive Transformer memory size, r: compression ratio, p: the\\nnumber of soft-prompt summary vectors and m: summary vector accumulation steps).\\ntheir context-memory footprint and effective context length defined in terms of model\\nparameters and input segment length. Infini-Transformer has a constant memory complexity\\nofdkey×dvalue+dkeyfor storing compressed context in Msand zsfor each head in single\\nlayer while for the other models, the complexity grows along with the sequence dimension\\n- the memory complexity depends either on the cache size for Transformer-XL (Dai et al.,\\n2019), Compressive Transformer (Rae et al., 2019) and Memorizing Transformers (Wu et al.,\\n2022) or on the soft-prompt size for RTM (Bulatov et al., 2022) and AutoCompressors (Ge\\net al., 2023).\\nEarly \\nlayers \\nAttention heads \\nFigure 3: There are two types of heads\\nemerged in Infini-attention after training: spe-\\ncialized heads with gating score near 0 or\\n1 and mixer heads with score close to 0.5.\\nThe specialized heads either process contex-\\ntual information via the local attention mech-\\nanism or retrieve from the compressive mem-\\nory whereas the mixer heads aggregate both\\ncurrent contextual information and long-term\\nmemory content together into single output.Transformer-XL computes attention over KV\\nstates cached from the last segment in addition\\nto the current states. Since this is done for each\\nlayer, Transformer-XL extends the context win-\\ndow from NtoN×ltokens with an additional\\nmemory footprint of (dkey+dvalue)×H×N×l.\\nCompressive Transformer adds a second cache\\nto Transformer-XL and stores compressed rep-\\nresentations of past segment activations. So it\\nextends the Transformer-XL’s context window\\nbyc×r×lbut still has a large context-memory\\ncomplexity. Taking the idea further, Memoriz-\\ning Transformers opt to store the entire KV states\\nas context for input sequences. Since the stor-\\nage becomes prohibitively expensive in this case,\\nthey restrict the contextual computation to a sin-\\ngle layer only. By utilizing a fast kNN retriever,\\nMemorizing Transformers then build a context\\nwindow covering the entire sequence history of\\nlength N×Sat an increased cost of storage. Our\\nexperiments show that Infini-Transformer LM\\ncan achieve more than 100x compression rate on\\ntop of Memorizing Transformers while further\\nimproving the perplexity score.\\nRMT and AutoCompressors allow for a poten-\\ntially infinite context length since they compress\\nthe input into summary vectors and then pass\\nthem as extra soft-prompt inputs for the subsequent segments. However, in practice the\\nsuccess of those techniques highly depends on the size of soft-prompt vectors. Namely, it\\nis necessary to increase the number of soft-prompt (summary) vectors to achieve a better\\nperformance with AutoCompressors (Chevalier et al., 2023) and with that, the memory and\\ncompute complexity grow quickly resulting in diminished efficiency. It was also observed in\\nAutoCompressors (Chevalier et al., 2023) that an efficient compression objective is needed\\nfor training such prompt compression techniques (Ge et al., 2023).\\n5', metadata={'source': 'C:\\\\Users\\\\ANKITHA\\\\Downloads\\\\2404.07143.pdf', 'page': 4})]"
      ]
     },
     "execution_count": 26,
     "metadata": {},
     "output_type": "execute_result"
    }
   ],
   "source": [
    "# Load a document\n",
    "\n",
    "from langchain_community.document_loaders import PyPDFLoader\n",
    "loader = PyPDFLoader(r\"C:\\Users\\ANKITHA\\Downloads\\2404.07143.pdf\")\n",
    "data = loader.load_and_split()\n",
    "\n",
    "data[:5]"
   ]
  },
  {
   "cell_type": "markdown",
   "id": "0da96159",
   "metadata": {},
   "source": [
    "# Spliting the document into chunks"
   ]
  },
  {
   "cell_type": "code",
   "execution_count": 27,
   "id": "aa4dc65f",
   "metadata": {
    "ExecuteTime": {
     "end_time": "2024-04-25T11:57:19.816010Z",
     "start_time": "2024-04-25T11:57:19.784220Z"
    }
   },
   "outputs": [
    {
     "name": "stderr",
     "output_type": "stream",
     "text": [
      "Created a chunk of size 568, which is longer than the specified 500\n",
      "Created a chunk of size 506, which is longer than the specified 500\n",
      "Created a chunk of size 633, which is longer than the specified 500\n"
     ]
    },
    {
     "name": "stdout",
     "output_type": "stream",
     "text": [
      "110\n"
     ]
    }
   ],
   "source": [
    "# Spliting the document into chunks\n",
    "from langchain_text_splitters import NLTKTextSplitter\n",
    "\n",
    "text_splitter = NLTKTextSplitter(chunk_size=500, chunk_overlap=100)\n",
    "\n",
    "chunks = text_splitter.split_documents(data)\n",
    "\n",
    "print(len(chunks))\n"
   ]
  },
  {
   "cell_type": "markdown",
   "id": "a86e4dbe",
   "metadata": {},
   "source": [
    "# Creating Chunk Embedding"
   ]
  },
  {
   "cell_type": "code",
   "execution_count": 28,
   "id": "c40b66e4",
   "metadata": {
    "ExecuteTime": {
     "end_time": "2024-04-25T11:57:22.772570Z",
     "start_time": "2024-04-25T11:57:22.752741Z"
    }
   },
   "outputs": [],
   "source": [
    "# Creating Chunks Embedding\n",
    "# We are just loading OpenAIEmbeddings\n",
    "\n",
    "from langchain_google_genai import GoogleGenerativeAIEmbeddings\n",
    "\n",
    "embedding_model = GoogleGenerativeAIEmbeddings(google_api_key=GOOGLE_API_KEY, model=\"models/embedding-001\")\n",
    "\n",
    "# vectors = embeddings.embed_documents(chunks)"
   ]
  },
  {
   "cell_type": "markdown",
   "id": "9a9b5e01",
   "metadata": {},
   "source": [
    "# Storing the chunks in vector"
   ]
  },
  {
   "cell_type": "code",
   "execution_count": 29,
   "id": "d5daa671",
   "metadata": {
    "ExecuteTime": {
     "end_time": "2024-04-25T11:57:35.734620Z",
     "start_time": "2024-04-25T11:57:25.875273Z"
    }
   },
   "outputs": [
    {
     "name": "stdout",
     "output_type": "stream",
     "text": [
      "Requirement already satisfied: chromadb in c:\\programdata\\anaconda3_\\lib\\site-packages (0.5.0)\n",
      "Requirement already satisfied: mmh3>=4.0.1 in c:\\programdata\\anaconda3_\\lib\\site-packages (from chromadb) (4.1.0)\n",
      "Requirement already satisfied: numpy>=1.22.5 in c:\\programdata\\anaconda3_\\lib\\site-packages (from chromadb) (1.26.4)\n",
      "Requirement already satisfied: PyYAML>=6.0.0 in c:\\programdata\\anaconda3_\\lib\\site-packages (from chromadb) (6.0)\n",
      "Requirement already satisfied: typer>=0.9.0 in c:\\programdata\\anaconda3_\\lib\\site-packages (from chromadb) (0.12.3)\n",
      "Requirement already satisfied: orjson>=3.9.12 in c:\\programdata\\anaconda3_\\lib\\site-packages (from chromadb) (3.10.1)\n",
      "Requirement already satisfied: fastapi>=0.95.2 in c:\\programdata\\anaconda3_\\lib\\site-packages (from chromadb) (0.110.2)\n",
      "Requirement already satisfied: pydantic>=1.9 in c:\\programdata\\anaconda3_\\lib\\site-packages (from chromadb) (2.7.0)\n",
      "Requirement already satisfied: requests>=2.28 in c:\\programdata\\anaconda3_\\lib\\site-packages (from chromadb) (2.28.1)\n",
      "Requirement already satisfied: opentelemetry-sdk>=1.2.0 in c:\\programdata\\anaconda3_\\lib\\site-packages (from chromadb) (1.24.0)\n",
      "Requirement already satisfied: build>=1.0.3 in c:\\programdata\\anaconda3_\\lib\\site-packages (from chromadb) (1.2.1)\n",
      "Requirement already satisfied: bcrypt>=4.0.1 in c:\\programdata\\anaconda3_\\lib\\site-packages (from chromadb) (4.1.2)\n",
      "Requirement already satisfied: tokenizers>=0.13.2 in c:\\programdata\\anaconda3_\\lib\\site-packages (from chromadb) (0.19.1)\n",
      "Requirement already satisfied: chroma-hnswlib==0.7.3 in c:\\programdata\\anaconda3_\\lib\\site-packages (from chromadb) (0.7.3)\n",
      "Requirement already satisfied: opentelemetry-api>=1.2.0 in c:\\programdata\\anaconda3_\\lib\\site-packages (from chromadb) (1.24.0)\n",
      "Requirement already satisfied: importlib-resources in c:\\programdata\\anaconda3_\\lib\\site-packages (from chromadb) (6.4.0)\n",
      "Requirement already satisfied: typing-extensions>=4.5.0 in c:\\programdata\\anaconda3_\\lib\\site-packages (from chromadb) (4.11.0)\n",
      "Requirement already satisfied: overrides>=7.3.1 in c:\\programdata\\anaconda3_\\lib\\site-packages (from chromadb) (7.7.0)\n",
      "Requirement already satisfied: posthog>=2.4.0 in c:\\programdata\\anaconda3_\\lib\\site-packages (from chromadb) (3.5.0)\n",
      "Requirement already satisfied: grpcio>=1.58.0 in c:\\programdata\\anaconda3_\\lib\\site-packages (from chromadb) (1.62.2)\n",
      "Requirement already satisfied: opentelemetry-instrumentation-fastapi>=0.41b0 in c:\\programdata\\anaconda3_\\lib\\site-packages (from chromadb) (0.45b0)\n",
      "Requirement already satisfied: tqdm>=4.65.0 in c:\\programdata\\anaconda3_\\lib\\site-packages (from chromadb) (4.66.2)\n",
      "Requirement already satisfied: uvicorn[standard]>=0.18.3 in c:\\programdata\\anaconda3_\\lib\\site-packages (from chromadb) (0.29.0)\n",
      "Requirement already satisfied: onnxruntime>=1.14.1 in c:\\programdata\\anaconda3_\\lib\\site-packages (from chromadb) (1.17.3)\n",
      "Requirement already satisfied: tenacity>=8.2.3 in c:\\programdata\\anaconda3_\\lib\\site-packages (from chromadb) (8.2.3)\n",
      "Requirement already satisfied: kubernetes>=28.1.0 in c:\\programdata\\anaconda3_\\lib\\site-packages (from chromadb) (29.0.0)\n",
      "Requirement already satisfied: pypika>=0.48.9 in c:\\programdata\\anaconda3_\\lib\\site-packages (from chromadb) (0.48.9)\n",
      "Requirement already satisfied: opentelemetry-exporter-otlp-proto-grpc>=1.2.0 in c:\\programdata\\anaconda3_\\lib\\site-packages (from chromadb) (1.24.0)\n",
      "Requirement already satisfied: tomli>=1.1.0 in c:\\programdata\\anaconda3_\\lib\\site-packages (from build>=1.0.3->chromadb) (2.0.1)\n",
      "Requirement already satisfied: packaging>=19.1 in c:\\programdata\\anaconda3_\\lib\\site-packages (from build>=1.0.3->chromadb) (23.2)\n",
      "Requirement already satisfied: pyproject_hooks in c:\\programdata\\anaconda3_\\lib\\site-packages (from build>=1.0.3->chromadb) (1.0.0)\n",
      "Requirement already satisfied: importlib-metadata>=4.6 in c:\\programdata\\anaconda3_\\lib\\site-packages (from build>=1.0.3->chromadb) (7.0.0)\n",
      "Requirement already satisfied: colorama in c:\\programdata\\anaconda3_\\lib\\site-packages (from build>=1.0.3->chromadb) (0.4.5)\n",
      "Requirement already satisfied: starlette<0.38.0,>=0.37.2 in c:\\programdata\\anaconda3_\\lib\\site-packages (from fastapi>=0.95.2->chromadb) (0.37.2)\n",
      "Requirement already satisfied: six>=1.9.0 in c:\\programdata\\anaconda3_\\lib\\site-packages (from kubernetes>=28.1.0->chromadb) (1.16.0)\n",
      "Requirement already satisfied: urllib3>=1.24.2 in c:\\programdata\\anaconda3_\\lib\\site-packages (from kubernetes>=28.1.0->chromadb) (1.26.11)\n",
      "Requirement already satisfied: requests-oauthlib in c:\\programdata\\anaconda3_\\lib\\site-packages (from kubernetes>=28.1.0->chromadb) (2.0.0)\n",
      "Requirement already satisfied: websocket-client!=0.40.0,!=0.41.*,!=0.42.*,>=0.32.0 in c:\\programdata\\anaconda3_\\lib\\site-packages (from kubernetes>=28.1.0->chromadb) (0.58.0)\n",
      "Requirement already satisfied: certifi>=14.05.14 in c:\\programdata\\anaconda3_\\lib\\site-packages (from kubernetes>=28.1.0->chromadb) (2022.9.14)\n",
      "Requirement already satisfied: oauthlib>=3.2.2 in c:\\programdata\\anaconda3_\\lib\\site-packages (from kubernetes>=28.1.0->chromadb) (3.2.2)\n",
      "Requirement already satisfied: python-dateutil>=2.5.3 in c:\\programdata\\anaconda3_\\lib\\site-packages (from kubernetes>=28.1.0->chromadb) (2.8.2)\n",
      "Requirement already satisfied: google-auth>=1.0.1 in c:\\programdata\\anaconda3_\\lib\\site-packages (from kubernetes>=28.1.0->chromadb) (2.29.0)\n",
      "Requirement already satisfied: sympy in c:\\programdata\\anaconda3_\\lib\\site-packages (from onnxruntime>=1.14.1->chromadb) (1.10.1)\n",
      "Requirement already satisfied: flatbuffers in c:\\programdata\\anaconda3_\\lib\\site-packages (from onnxruntime>=1.14.1->chromadb) (24.3.25)\n",
      "Requirement already satisfied: protobuf in c:\\programdata\\anaconda3_\\lib\\site-packages (from onnxruntime>=1.14.1->chromadb) (4.25.3)\n",
      "Requirement already satisfied: coloredlogs in c:\\programdata\\anaconda3_\\lib\\site-packages (from onnxruntime>=1.14.1->chromadb) (15.0.1)\n",
      "Requirement already satisfied: deprecated>=1.2.6 in c:\\programdata\\anaconda3_\\lib\\site-packages (from opentelemetry-api>=1.2.0->chromadb) (1.2.14)\n",
      "Requirement already satisfied: googleapis-common-protos~=1.52 in c:\\programdata\\anaconda3_\\lib\\site-packages (from opentelemetry-exporter-otlp-proto-grpc>=1.2.0->chromadb) (1.63.0)\n",
      "Requirement already satisfied: opentelemetry-proto==1.24.0 in c:\\programdata\\anaconda3_\\lib\\site-packages (from opentelemetry-exporter-otlp-proto-grpc>=1.2.0->chromadb) (1.24.0)\n",
      "Requirement already satisfied: opentelemetry-exporter-otlp-proto-common==1.24.0 in c:\\programdata\\anaconda3_\\lib\\site-packages (from opentelemetry-exporter-otlp-proto-grpc>=1.2.0->chromadb) (1.24.0)\n",
      "Requirement already satisfied: opentelemetry-instrumentation-asgi==0.45b0 in c:\\programdata\\anaconda3_\\lib\\site-packages (from opentelemetry-instrumentation-fastapi>=0.41b0->chromadb) (0.45b0)\n",
      "Requirement already satisfied: opentelemetry-instrumentation==0.45b0 in c:\\programdata\\anaconda3_\\lib\\site-packages (from opentelemetry-instrumentation-fastapi>=0.41b0->chromadb) (0.45b0)\n",
      "Requirement already satisfied: opentelemetry-semantic-conventions==0.45b0 in c:\\programdata\\anaconda3_\\lib\\site-packages (from opentelemetry-instrumentation-fastapi>=0.41b0->chromadb) (0.45b0)\n",
      "Requirement already satisfied: opentelemetry-util-http==0.45b0 in c:\\programdata\\anaconda3_\\lib\\site-packages (from opentelemetry-instrumentation-fastapi>=0.41b0->chromadb) (0.45b0)\n",
      "Requirement already satisfied: setuptools>=16.0 in c:\\programdata\\anaconda3_\\lib\\site-packages (from opentelemetry-instrumentation==0.45b0->opentelemetry-instrumentation-fastapi>=0.41b0->chromadb) (63.4.1)\n",
      "Requirement already satisfied: wrapt<2.0.0,>=1.0.0 in c:\\programdata\\anaconda3_\\lib\\site-packages (from opentelemetry-instrumentation==0.45b0->opentelemetry-instrumentation-fastapi>=0.41b0->chromadb) (1.14.1)\n",
      "Requirement already satisfied: asgiref~=3.0 in c:\\programdata\\anaconda3_\\lib\\site-packages (from opentelemetry-instrumentation-asgi==0.45b0->opentelemetry-instrumentation-fastapi>=0.41b0->chromadb) (3.8.1)\n",
      "Requirement already satisfied: monotonic>=1.5 in c:\\programdata\\anaconda3_\\lib\\site-packages (from posthog>=2.4.0->chromadb) (1.6)\n",
      "Requirement already satisfied: backoff>=1.10.0 in c:\\programdata\\anaconda3_\\lib\\site-packages (from posthog>=2.4.0->chromadb) (2.2.1)\n",
      "Requirement already satisfied: annotated-types>=0.4.0 in c:\\programdata\\anaconda3_\\lib\\site-packages (from pydantic>=1.9->chromadb) (0.6.0)\n",
      "Requirement already satisfied: pydantic-core==2.18.1 in c:\\programdata\\anaconda3_\\lib\\site-packages (from pydantic>=1.9->chromadb) (2.18.1)\n",
      "Requirement already satisfied: idna<4,>=2.5 in c:\\programdata\\anaconda3_\\lib\\site-packages (from requests>=2.28->chromadb) (3.3)\n",
      "Requirement already satisfied: charset-normalizer<3,>=2 in c:\\programdata\\anaconda3_\\lib\\site-packages (from requests>=2.28->chromadb) (2.0.4)\n",
      "Requirement already satisfied: huggingface-hub<1.0,>=0.16.4 in c:\\programdata\\anaconda3_\\lib\\site-packages (from tokenizers>=0.13.2->chromadb) (0.22.2)\n",
      "Requirement already satisfied: shellingham>=1.3.0 in c:\\programdata\\anaconda3_\\lib\\site-packages (from typer>=0.9.0->chromadb) (1.5.4)\n",
      "Requirement already satisfied: rich>=10.11.0 in c:\\programdata\\anaconda3_\\lib\\site-packages (from typer>=0.9.0->chromadb) (13.7.1)\n",
      "Requirement already satisfied: click>=8.0.0 in c:\\programdata\\anaconda3_\\lib\\site-packages (from typer>=0.9.0->chromadb) (8.0.4)\n",
      "Requirement already satisfied: h11>=0.8 in c:\\programdata\\anaconda3_\\lib\\site-packages (from uvicorn[standard]>=0.18.3->chromadb) (0.14.0)\n",
      "Requirement already satisfied: httptools>=0.5.0 in c:\\programdata\\anaconda3_\\lib\\site-packages (from uvicorn[standard]>=0.18.3->chromadb) (0.6.1)\n",
      "Requirement already satisfied: watchfiles>=0.13 in c:\\programdata\\anaconda3_\\lib\\site-packages (from uvicorn[standard]>=0.18.3->chromadb) (0.21.0)\n",
      "Requirement already satisfied: websockets>=10.4 in c:\\programdata\\anaconda3_\\lib\\site-packages (from uvicorn[standard]>=0.18.3->chromadb) (12.0)\n",
      "Requirement already satisfied: python-dotenv>=0.13 in c:\\programdata\\anaconda3_\\lib\\site-packages (from uvicorn[standard]>=0.18.3->chromadb) (1.0.1)\n",
      "Requirement already satisfied: zipp>=3.1.0 in c:\\programdata\\anaconda3_\\lib\\site-packages (from importlib-resources->chromadb) (3.8.0)\n",
      "Requirement already satisfied: cachetools<6.0,>=2.0.0 in c:\\programdata\\anaconda3_\\lib\\site-packages (from google-auth>=1.0.1->kubernetes>=28.1.0->chromadb) (5.3.3)\n",
      "Requirement already satisfied: rsa<5,>=3.1.4 in c:\\programdata\\anaconda3_\\lib\\site-packages (from google-auth>=1.0.1->kubernetes>=28.1.0->chromadb) (4.9)\n",
      "Requirement already satisfied: pyasn1-modules>=0.2.1 in c:\\programdata\\anaconda3_\\lib\\site-packages (from google-auth>=1.0.1->kubernetes>=28.1.0->chromadb) (0.2.8)\n",
      "Requirement already satisfied: fsspec>=2023.5.0 in c:\\programdata\\anaconda3_\\lib\\site-packages (from huggingface-hub<1.0,>=0.16.4->tokenizers>=0.13.2->chromadb) (2024.3.1)\n",
      "Requirement already satisfied: filelock in c:\\programdata\\anaconda3_\\lib\\site-packages (from huggingface-hub<1.0,>=0.16.4->tokenizers>=0.13.2->chromadb) (3.6.0)\n",
      "Requirement already satisfied: markdown-it-py>=2.2.0 in c:\\programdata\\anaconda3_\\lib\\site-packages (from rich>=10.11.0->typer>=0.9.0->chromadb) (3.0.0)\n",
      "Requirement already satisfied: pygments<3.0.0,>=2.13.0 in c:\\programdata\\anaconda3_\\lib\\site-packages (from rich>=10.11.0->typer>=0.9.0->chromadb) (2.17.2)\n",
      "Requirement already satisfied: anyio<5,>=3.4.0 in c:\\programdata\\anaconda3_\\lib\\site-packages (from starlette<0.38.0,>=0.37.2->fastapi>=0.95.2->chromadb) (3.5.0)\n",
      "Requirement already satisfied: humanfriendly>=9.1 in c:\\programdata\\anaconda3_\\lib\\site-packages (from coloredlogs->onnxruntime>=1.14.1->chromadb) (10.0)\n",
      "Requirement already satisfied: mpmath>=0.19 in c:\\programdata\\anaconda3_\\lib\\site-packages (from sympy->onnxruntime>=1.14.1->chromadb) (1.2.1)\n",
      "Requirement already satisfied: sniffio>=1.1 in c:\\programdata\\anaconda3_\\lib\\site-packages (from anyio<5,>=3.4.0->starlette<0.38.0,>=0.37.2->fastapi>=0.95.2->chromadb) (1.2.0)\n",
      "Requirement already satisfied: pyreadline3 in c:\\programdata\\anaconda3_\\lib\\site-packages (from humanfriendly>=9.1->coloredlogs->onnxruntime>=1.14.1->chromadb) (3.4.1)\n",
      "Requirement already satisfied: mdurl~=0.1 in c:\\programdata\\anaconda3_\\lib\\site-packages (from markdown-it-py>=2.2.0->rich>=10.11.0->typer>=0.9.0->chromadb) (0.1.2)\n",
      "Requirement already satisfied: pyasn1<0.5.0,>=0.4.6 in c:\\programdata\\anaconda3_\\lib\\site-packages (from pyasn1-modules>=0.2.1->google-auth>=1.0.1->kubernetes>=28.1.0->chromadb) (0.4.8)\n"
     ]
    }
   ],
   "source": [
    "!pip install chromadb \n",
    "    #Store the chunks in vector store\n",
    "from langchain_community.vectorstores import Chroma\n",
    "\n",
    "# Embed each chunk and load it into the vector store\n",
    "db = Chroma.from_documents(chunks, embedding_model, persist_directory=\"Downloads\")\n",
    "\n",
    "# Persist the database on drive\n",
    "db.persist()"
   ]
  },
  {
   "cell_type": "code",
   "execution_count": 30,
   "id": "7befc699",
   "metadata": {
    "ExecuteTime": {
     "end_time": "2024-04-25T11:57:38.783656Z",
     "start_time": "2024-04-25T11:57:38.773215Z"
    }
   },
   "outputs": [],
   "source": [
    "# Setting a Connection with the ChromaDB\n",
    "connection = Chroma(persist_directory=\"Downloads\", embedding_function=embedding_model)"
   ]
  },
  {
   "cell_type": "markdown",
   "id": "a921f0a1",
   "metadata": {},
   "source": [
    "# Settingup the Vector Store as a Retriever"
   ]
  },
  {
   "cell_type": "code",
   "execution_count": 31,
   "id": "67f48d0e",
   "metadata": {
    "ExecuteTime": {
     "end_time": "2024-04-25T11:57:42.336401Z",
     "start_time": "2024-04-25T11:57:42.330094Z"
    }
   },
   "outputs": [
    {
     "name": "stdout",
     "output_type": "stream",
     "text": [
      "<class 'langchain_core.vectorstores.VectorStoreRetriever'>\n"
     ]
    }
   ],
   "source": [
    "# Converting CHROMA db_connection to Retriever Object\n",
    "retriever = connection.as_retriever(search_kwargs={\"k\": 5})\n",
    "\n",
    "print(type(retriever))"
   ]
  },
  {
   "cell_type": "markdown",
   "id": "0328d5d9",
   "metadata": {},
   "source": [
    "# Now let’s write the actual application logic. We want to create a simple application that takes a user question, searches for documents relevant to that question, passes the retrieved documents and initial question to a model, and returns an answer."
   ]
  },
  {
   "cell_type": "markdown",
   "id": "623ad447",
   "metadata": {},
   "source": [
    "# Based on users query retrieving the context\n",
    "# Query -1"
   ]
  },
  {
   "cell_type": "code",
   "execution_count": 32,
   "id": "2352e140",
   "metadata": {
    "ExecuteTime": {
     "end_time": "2024-04-25T11:57:46.121650Z",
     "start_time": "2024-04-25T11:57:46.115356Z"
    }
   },
   "outputs": [],
   "source": [
    "user_query = \"What is LLMs?\""
   ]
  },
  {
   "cell_type": "code",
   "execution_count": 33,
   "id": "7314014c",
   "metadata": {
    "ExecuteTime": {
     "end_time": "2024-04-25T11:57:49.078698Z",
     "start_time": "2024-04-25T11:57:48.535322Z"
    }
   },
   "outputs": [],
   "source": [
    "retrieved_docs = retriever.invoke(user_query)"
   ]
  },
  {
   "cell_type": "code",
   "execution_count": 34,
   "id": "1b38bc4b",
   "metadata": {
    "ExecuteTime": {
     "end_time": "2024-04-25T11:57:50.906106Z",
     "start_time": "2024-04-25T11:57:50.899449Z"
    }
   },
   "outputs": [
    {
     "data": {
      "text/plain": [
       "5"
      ]
     },
     "execution_count": 34,
     "metadata": {},
     "output_type": "execute_result"
    }
   ],
   "source": [
    "len(retrieved_docs)"
   ]
  },
  {
   "cell_type": "code",
   "execution_count": 35,
   "id": "86625efa",
   "metadata": {
    "ExecuteTime": {
     "end_time": "2024-04-25T11:57:53.313835Z",
     "start_time": "2024-04-25T11:57:53.307831Z"
    }
   },
   "outputs": [
    {
     "name": "stdout",
     "output_type": "stream",
     "text": [
      "However, the LLMs in their current state\n",
      "have yet to see an effective, practical compres-\n",
      "sive memory technique that balances simplicity along with quality.\n",
      "\n",
      "1arXiv:2404.07143v1  [cs.CL]  10 Apr 2024\n"
     ]
    }
   ],
   "source": [
    "print(retrieved_docs[0].page_content)"
   ]
  },
  {
   "cell_type": "markdown",
   "id": "e24abcf1",
   "metadata": {},
   "source": [
    "# Query - 2"
   ]
  },
  {
   "cell_type": "code",
   "execution_count": 36,
   "id": "84da33ef",
   "metadata": {
    "ExecuteTime": {
     "end_time": "2024-04-25T11:57:56.584276Z",
     "start_time": "2024-04-25T11:57:56.579353Z"
    }
   },
   "outputs": [],
   "source": [
    "user_query = \"Tell me about LLMs?\""
   ]
  },
  {
   "cell_type": "code",
   "execution_count": 37,
   "id": "85c472ba",
   "metadata": {
    "ExecuteTime": {
     "end_time": "2024-04-25T11:57:59.369321Z",
     "start_time": "2024-04-25T11:57:58.824839Z"
    }
   },
   "outputs": [],
   "source": [
    "retrieved_docs = retriever.invoke(user_query)"
   ]
  },
  {
   "cell_type": "code",
   "execution_count": 38,
   "id": "663524a6",
   "metadata": {
    "ExecuteTime": {
     "end_time": "2024-04-25T11:58:01.959003Z",
     "start_time": "2024-04-25T11:58:01.951611Z"
    }
   },
   "outputs": [
    {
     "data": {
      "text/plain": [
       "5"
      ]
     },
     "execution_count": 38,
     "metadata": {},
     "output_type": "execute_result"
    }
   ],
   "source": [
    "len(retrieved_docs)"
   ]
  },
  {
   "cell_type": "code",
   "execution_count": 39,
   "id": "7c21901e",
   "metadata": {
    "ExecuteTime": {
     "end_time": "2024-04-25T11:58:04.673384Z",
     "start_time": "2024-04-25T11:58:04.666930Z"
    }
   },
   "outputs": [
    {
     "name": "stdout",
     "output_type": "stream",
     "text": [
      "However, the LLMs in their current state\n",
      "have yet to see an effective, practical compres-\n",
      "sive memory technique that balances simplicity along with quality.\n",
      "\n",
      "1arXiv:2404.07143v1  [cs.CL]  10 Apr 2024\n"
     ]
    }
   ],
   "source": [
    "print(retrieved_docs[0].page_content)"
   ]
  },
  {
   "cell_type": "markdown",
   "id": "b9d01544",
   "metadata": {},
   "source": [
    "# Passing the context and questioning to the LLM"
   ]
  },
  {
   "cell_type": "code",
   "execution_count": 40,
   "id": "a4e4fe6d",
   "metadata": {
    "ExecuteTime": {
     "end_time": "2024-04-25T11:58:08.523594Z",
     "start_time": "2024-04-25T11:58:08.515538Z"
    }
   },
   "outputs": [],
   "source": [
    "from langchain_core.messages import HumanMessage, AIMessage, SystemMessage\n",
    "from langchain_core.prompts import ChatPromptTemplate, SystemMessagePromptTemplate, HumanMessagePromptTemplate\n",
    "\n",
    "chat_template = ChatPromptTemplate.from_messages([\n",
    "    # System Message Prompt Template\n",
    "    SystemMessage(content=\"\"\"You are a Helpful AI Bot. \n",
    "    You take the context and question from user. Your answer should be based on the specific context.\"\"\"),\n",
    "    # Human Message Prompt Template\n",
    "    HumanMessagePromptTemplate.from_template(\"\"\"Answer the question based on the given context.\n",
    "    Context:\n",
    "    {context}\n",
    "    Question: \n",
    "    {question}\n",
    "    \n",
    "    Answer: \"\"\")\n",
    "])"
   ]
  },
  {
   "cell_type": "code",
   "execution_count": 41,
   "id": "7b725e7a",
   "metadata": {
    "ExecuteTime": {
     "end_time": "2024-04-25T11:58:10.902027Z",
     "start_time": "2024-04-25T11:58:10.897999Z"
    }
   },
   "outputs": [],
   "source": [
    "from langchain_core.output_parsers import StrOutputParser\n",
    "\n",
    "output_parser = StrOutputParser()"
   ]
  },
  {
   "cell_type": "code",
   "execution_count": 42,
   "id": "27ab79f9",
   "metadata": {
    "ExecuteTime": {
     "end_time": "2024-04-25T11:58:13.188506Z",
     "start_time": "2024-04-25T11:58:13.182340Z"
    }
   },
   "outputs": [],
   "source": [
    "from langchain_core.runnables import RunnablePassthrough\n",
    "\n",
    "def format_docs(docs):\n",
    "    return \"\\n\\n\".join(doc.page_content for doc in docs)\n",
    "\n",
    "\n",
    "rag_chain = (\n",
    "    {\"context\": retriever | format_docs, \"question\": RunnablePassthrough()}\n",
    "    | chat_template\n",
    "    | chat_model\n",
    "    | output_parser\n",
    ")"
   ]
  },
  {
   "cell_type": "markdown",
   "id": "b864819a",
   "metadata": {},
   "source": [
    "# Query - 1"
   ]
  },
  {
   "cell_type": "code",
   "execution_count": 43,
   "id": "01c579ff",
   "metadata": {
    "ExecuteTime": {
     "end_time": "2024-04-25T11:58:33.575449Z",
     "start_time": "2024-04-25T11:58:16.969906Z"
    }
   },
   "outputs": [
    {
     "data": {
      "text/markdown": [
       "## Scaled Dot-Product Attention in the Context of Local Attention\n",
       "\n",
       "The provided text doesn't explicitly define \"Scaled Dot-Product Attention,\" but it does offer clues about its application within the context of local attention mechanisms. Let's break down what we can understand:\n",
       "\n",
       "**Key Points:**\n",
       "\n",
       "* **Dot-product attention is used within segments:** The text mentions \"standard causal dot-product attention context within each segment.\" This suggests the attention mechanism is applied to individual segments of text rather than the entire sequence.\n",
       "* **Local attention restricts the scope:** The computation covers a specific number (N) of tokens within the current segment (S). This limits the attention to a local context, ignoring tokens outside the segment.\n",
       "* **Comparison to previous local attention:** The text contrasts this approach with the local attention proposed by Dai et al. (2019), which discards attention states from previous segments when processing the next one. This implies the current method might retain or utilize information from past segments in some way.\n",
       "\n",
       "**Inference about Scaled Dot-Product Attention:**\n",
       "\n",
       "While the specifics of \"Scaled Dot-Product Attention\" remain unclear, we can infer that it likely involves:\n",
       "\n",
       "1. **Dot-product calculation:** This is a common way to compute attention scores, measuring the similarity between query and key vectors.\n",
       "2. **Scaling:** The \"scaled\" part suggests there might be a scaling factor applied to the dot product, potentially to prevent the values from becoming too large, which can cause vanishing gradients during training.\n",
       "3. **Causal masking:** The mention of \"causal\" implies that the attention mechanism only attends to past tokens and the current token, preventing \"cheating\" by looking into the future.\n",
       "\n",
       "**Connection to System-Level Optimization:**\n",
       "\n",
       "The text also mentions system-level optimization techniques used to improve the efficiency of exact attention computation. This suggests that Scaled Dot-Product Attention, while effective, might be computationally expensive, prompting the need for optimization, especially when dealing with long sequences.\n",
       "\n",
       "**In conclusion,** while the text doesn't explicitly define Scaled Dot-Product Attention, we can infer its core mechanics and its role within the local attention context. The specifics of scaling and its relation to system-level optimizations would require further information or investigation into the referenced papers. \n"
      ],
      "text/plain": [
       "<IPython.core.display.Markdown object>"
      ]
     },
     "execution_count": 43,
     "metadata": {},
     "output_type": "execute_result"
    }
   ],
   "source": [
    "from IPython.display import Markdown as markdown\n",
    "response = rag_chain.invoke(\"What is Scaled Dot-product Attention?\")\n",
    "\n",
    "markdown(response)"
   ]
  },
  {
   "cell_type": "markdown",
   "id": "6a8c21ed",
   "metadata": {},
   "source": [
    "# Query - 2"
   ]
  },
  {
   "cell_type": "code",
   "execution_count": 44,
   "id": "1a2703ac",
   "metadata": {
    "ExecuteTime": {
     "end_time": "2024-04-25T11:59:35.997283Z",
     "start_time": "2024-04-25T11:59:25.000479Z"
    }
   },
   "outputs": [
    {
     "data": {
      "text/markdown": [
       "## Memory and Effective Context Window: Balancing Power and Practicality\n",
       "\n",
       "The provided text discusses the concept of memory and effective context window in the context of large language models (LLMs). Let's break down what this means:\n",
       "\n",
       "**Context Window:** This refers to the amount of information an LLM can \"remember\" and consider while processing new data.  A larger context window allows the model to understand and respond to complex situations with greater accuracy.\n",
       "\n",
       "**Memory Footprint:**  This refers to the amount of storage and processing power required to maintain the context window.  As the context window grows, so does the memory footprint, leading to potential limitations in practicality and efficiency. \n",
       "\n",
       "**The Challenge:**  LLMs strive to achieve an unbounded context window (remembering everything) while maintaining a bounded memory footprint (using resources efficiently).\n",
       "\n",
       "**Existing Solutions:** The text mentions \"segment-level memory models\" which attempt to address this challenge.  However, it points out that these models often lack a balance between simplicity and quality.\n",
       "\n",
       "**Infini-Transformer:** The proposed solution, \"Infini-Transformer,\" aims to enable an unbounded context window with a bounded memory footprint.  This suggests a more efficient and scalable approach to managing memory in LLMs. \n",
       "\n",
       "**Overall:**  The text highlights the importance of balancing memory capacity and practicality in LLMs. The \"Infini-Transformer\" is presented as a potential solution to achieve this balance, offering the ability to process vast amounts of information without excessive resource demands. \n"
      ],
      "text/plain": [
       "<IPython.core.display.Markdown object>"
      ]
     },
     "execution_count": 44,
     "metadata": {},
     "output_type": "execute_result"
    }
   ],
   "source": [
    "response = rag_chain.invoke(\"Memory and Effective Context Window?\")\n",
    "\n",
    "markdown(response)"
   ]
  },
  {
   "cell_type": "code",
   "execution_count": null,
   "id": "36343eb5",
   "metadata": {},
   "outputs": [],
   "source": []
  }
 ],
 "metadata": {
  "kernelspec": {
   "display_name": "Python 3 (ipykernel)",
   "language": "python",
   "name": "python3"
  },
  "language_info": {
   "codemirror_mode": {
    "name": "ipython",
    "version": 3
   },
   "file_extension": ".py",
   "mimetype": "text/x-python",
   "name": "python",
   "nbconvert_exporter": "python",
   "pygments_lexer": "ipython3",
   "version": "3.9.13"
  }
 },
 "nbformat": 4,
 "nbformat_minor": 5
}
